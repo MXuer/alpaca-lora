{
 "cells": [
  {
   "cell_type": "code",
   "execution_count": null,
   "id": "6418ea48",
   "metadata": {},
   "outputs": [],
   "source": [
    "import os\n",
    "from transformers import GenerationConfig, LlamaTokenizer, LlamaForCausalLM\n",
    "os.environ[\"CUDA_VISIBLE_DEVICES\"] = \"2,3,4,5,6,7\""
   ]
  }
 ],
 "metadata": {
  "kernelspec": {
   "display_name": "Python 3 (ipykernel)",
   "language": "python",
   "name": "python3"
  },
  "language_info": {
   "codemirror_mode": {
    "name": "ipython",
    "version": 3
   },
   "file_extension": ".py",
   "mimetype": "text/x-python",
   "name": "python",
   "nbconvert_exporter": "python",
   "pygments_lexer": "ipython3",
   "version": "3.8.16"
  }
 },
 "nbformat": 4,
 "nbformat_minor": 5
}
